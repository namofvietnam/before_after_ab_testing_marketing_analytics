{
 "cells": [
  {
   "cell_type": "markdown",
   "id": "e20baea0",
   "metadata": {},
   "source": [
    "# Summary"
   ]
  },
  {
   "cell_type": "markdown",
   "id": "60cdcab0",
   "metadata": {},
   "source": [
    "This note book:\n",
    "- Loads data\n",
    "- Transforms data to the format compatible with mean comparison tests\n",
    "- Conducts mean comparison tests (Levene's test, Welch's test, ANOVA test, Tukey's and Games-Howell pairwise comparison)"
   ]
  },
  {
   "cell_type": "markdown",
   "id": "77266ecd",
   "metadata": {},
   "source": [
    "# Data Management"
   ]
  },
  {
   "cell_type": "code",
   "execution_count": 18,
   "id": "9f9c442e",
   "metadata": {},
   "outputs": [
    {
     "data": {
      "text/html": [
       "<div>\n",
       "<style scoped>\n",
       "    .dataframe tbody tr th:only-of-type {\n",
       "        vertical-align: middle;\n",
       "    }\n",
       "\n",
       "    .dataframe tbody tr th {\n",
       "        vertical-align: top;\n",
       "    }\n",
       "\n",
       "    .dataframe thead th {\n",
       "        text-align: right;\n",
       "    }\n",
       "</style>\n",
       "<table border=\"1\" class=\"dataframe\">\n",
       "  <thead>\n",
       "    <tr style=\"text-align: right;\">\n",
       "      <th></th>\n",
       "      <th>sku</th>\n",
       "      <th>soid</th>\n",
       "      <th>soname</th>\n",
       "      <th>clid</th>\n",
       "      <th>clname</th>\n",
       "      <th>mkcname</th>\n",
       "      <th>suid</th>\n",
       "      <th>treated</th>\n",
       "      <th>addedtocart</th>\n",
       "      <th>placedorder</th>\n",
       "      <th>trafficcount</th>\n",
       "      <th>after</th>\n",
       "      <th>videocount</th>\n",
       "      <th>grs1month</th>\n",
       "      <th>grs2month</th>\n",
       "      <th>grs3month</th>\n",
       "      <th>grs12month</th>\n",
       "      <th>weightedavgscore</th>\n",
       "      <th>percentilerank</th>\n",
       "      <th>expectedgrs</th>\n",
       "    </tr>\n",
       "  </thead>\n",
       "  <tbody>\n",
       "    <tr>\n",
       "      <th>0</th>\n",
       "      <td>8201MAAA</td>\n",
       "      <td>3</td>\n",
       "      <td>UK</td>\n",
       "      <td>21</td>\n",
       "      <td>Cribs</td>\n",
       "      <td>Nursery</td>\n",
       "      <td>1</td>\n",
       "      <td>0</td>\n",
       "      <td>0</td>\n",
       "      <td>0</td>\n",
       "      <td>14</td>\n",
       "      <td>1</td>\n",
       "      <td>0</td>\n",
       "      <td>0.000000</td>\n",
       "      <td>0.00000</td>\n",
       "      <td>0.000000</td>\n",
       "      <td>0.000000</td>\n",
       "      <td>NaN</td>\n",
       "      <td>NaN</td>\n",
       "      <td>NaN</td>\n",
       "    </tr>\n",
       "    <tr>\n",
       "      <th>1</th>\n",
       "      <td>7801KBAA</td>\n",
       "      <td>4</td>\n",
       "      <td>DE</td>\n",
       "      <td>18</td>\n",
       "      <td>Mattress Toppers and Pads</td>\n",
       "      <td>Mattresses - Utility Bedding</td>\n",
       "      <td>7080</td>\n",
       "      <td>0</td>\n",
       "      <td>45</td>\n",
       "      <td>5</td>\n",
       "      <td>1362</td>\n",
       "      <td>1</td>\n",
       "      <td>0</td>\n",
       "      <td>265.558272</td>\n",
       "      <td>857.66493</td>\n",
       "      <td>3759.433838</td>\n",
       "      <td>6547.578930</td>\n",
       "      <td>NaN</td>\n",
       "      <td>NaN</td>\n",
       "      <td>NaN</td>\n",
       "    </tr>\n",
       "    <tr>\n",
       "      <th>2</th>\n",
       "      <td>0001ECAA</td>\n",
       "      <td>6</td>\n",
       "      <td>CA</td>\n",
       "      <td>15</td>\n",
       "      <td>Area Rugs</td>\n",
       "      <td>Rugs</td>\n",
       "      <td>1</td>\n",
       "      <td>0</td>\n",
       "      <td>0</td>\n",
       "      <td>0</td>\n",
       "      <td>0</td>\n",
       "      <td>1</td>\n",
       "      <td>0</td>\n",
       "      <td>0.000000</td>\n",
       "      <td>0.00000</td>\n",
       "      <td>0.000000</td>\n",
       "      <td>0.000000</td>\n",
       "      <td>NaN</td>\n",
       "      <td>NaN</td>\n",
       "      <td>NaN</td>\n",
       "    </tr>\n",
       "    <tr>\n",
       "      <th>3</th>\n",
       "      <td>3001FCAA</td>\n",
       "      <td>3</td>\n",
       "      <td>UK</td>\n",
       "      <td>15</td>\n",
       "      <td>Area Rugs</td>\n",
       "      <td>Rugs</td>\n",
       "      <td>4312</td>\n",
       "      <td>0</td>\n",
       "      <td>0</td>\n",
       "      <td>0</td>\n",
       "      <td>25</td>\n",
       "      <td>1</td>\n",
       "      <td>0</td>\n",
       "      <td>0.000000</td>\n",
       "      <td>0.00000</td>\n",
       "      <td>0.000000</td>\n",
       "      <td>342.437186</td>\n",
       "      <td>NaN</td>\n",
       "      <td>NaN</td>\n",
       "      <td>NaN</td>\n",
       "    </tr>\n",
       "    <tr>\n",
       "      <th>4</th>\n",
       "      <td>5001FCAA</td>\n",
       "      <td>3</td>\n",
       "      <td>UK</td>\n",
       "      <td>15</td>\n",
       "      <td>Area Rugs</td>\n",
       "      <td>Rugs</td>\n",
       "      <td>1</td>\n",
       "      <td>0</td>\n",
       "      <td>1</td>\n",
       "      <td>0</td>\n",
       "      <td>7</td>\n",
       "      <td>1</td>\n",
       "      <td>0</td>\n",
       "      <td>0.000000</td>\n",
       "      <td>0.00000</td>\n",
       "      <td>0.000000</td>\n",
       "      <td>0.000000</td>\n",
       "      <td>NaN</td>\n",
       "      <td>NaN</td>\n",
       "      <td>NaN</td>\n",
       "    </tr>\n",
       "  </tbody>\n",
       "</table>\n",
       "</div>"
      ],
      "text/plain": [
       "        sku  soid soname  clid                     clname  \\\n",
       "0  8201MAAA     3     UK    21                      Cribs   \n",
       "1  7801KBAA     4     DE    18  Mattress Toppers and Pads   \n",
       "2  0001ECAA     6     CA    15                  Area Rugs   \n",
       "3  3001FCAA     3     UK    15                  Area Rugs   \n",
       "4  5001FCAA     3     UK    15                  Area Rugs   \n",
       "\n",
       "                        mkcname  suid  treated  addedtocart  placedorder  \\\n",
       "0                       Nursery     1        0            0            0   \n",
       "1  Mattresses - Utility Bedding  7080        0           45            5   \n",
       "2                          Rugs     1        0            0            0   \n",
       "3                          Rugs  4312        0            0            0   \n",
       "4                          Rugs     1        0            1            0   \n",
       "\n",
       "   trafficcount  after  videocount   grs1month  grs2month    grs3month  \\\n",
       "0            14      1           0    0.000000    0.00000     0.000000   \n",
       "1          1362      1           0  265.558272  857.66493  3759.433838   \n",
       "2             0      1           0    0.000000    0.00000     0.000000   \n",
       "3            25      1           0    0.000000    0.00000     0.000000   \n",
       "4             7      1           0    0.000000    0.00000     0.000000   \n",
       "\n",
       "    grs12month  weightedavgscore  percentilerank  expectedgrs  \n",
       "0     0.000000               NaN             NaN          NaN  \n",
       "1  6547.578930               NaN             NaN          NaN  \n",
       "2     0.000000               NaN             NaN          NaN  \n",
       "3   342.437186               NaN             NaN          NaN  \n",
       "4     0.000000               NaN             NaN          NaN  "
      ]
     },
     "execution_count": 18,
     "metadata": {},
     "output_type": "execute_result"
    }
   ],
   "source": [
    "## Load the raw data\n",
    "import pandas as pd\n",
    "data = pd.read_csv('ab_testing_data.csv')\n",
    "data.head()"
   ]
  },
  {
   "cell_type": "markdown",
   "id": "0dbef3a2",
   "metadata": {},
   "source": [
    "## Aggregate to SKU Level"
   ]
  },
  {
   "cell_type": "code",
   "execution_count": 19,
   "id": "d8d7e24a",
   "metadata": {},
   "outputs": [
    {
     "data": {
      "text/html": [
       "<div>\n",
       "<style scoped>\n",
       "    .dataframe tbody tr th:only-of-type {\n",
       "        vertical-align: middle;\n",
       "    }\n",
       "\n",
       "    .dataframe tbody tr th {\n",
       "        vertical-align: top;\n",
       "    }\n",
       "\n",
       "    .dataframe thead th {\n",
       "        text-align: right;\n",
       "    }\n",
       "</style>\n",
       "<table border=\"1\" class=\"dataframe\">\n",
       "  <thead>\n",
       "    <tr style=\"text-align: right;\">\n",
       "      <th></th>\n",
       "      <th>sku</th>\n",
       "      <th>treated</th>\n",
       "      <th>after</th>\n",
       "      <th>trafficcount</th>\n",
       "      <th>addedtocart</th>\n",
       "      <th>placedorder</th>\n",
       "    </tr>\n",
       "  </thead>\n",
       "  <tbody>\n",
       "    <tr>\n",
       "      <th>0</th>\n",
       "      <td>000001AP</td>\n",
       "      <td>0</td>\n",
       "      <td>0</td>\n",
       "      <td>67</td>\n",
       "      <td>3</td>\n",
       "      <td>0</td>\n",
       "    </tr>\n",
       "    <tr>\n",
       "      <th>1</th>\n",
       "      <td>000001AP</td>\n",
       "      <td>0</td>\n",
       "      <td>1</td>\n",
       "      <td>43</td>\n",
       "      <td>2</td>\n",
       "      <td>0</td>\n",
       "    </tr>\n",
       "    <tr>\n",
       "      <th>2</th>\n",
       "      <td>000001BC</td>\n",
       "      <td>1</td>\n",
       "      <td>0</td>\n",
       "      <td>57</td>\n",
       "      <td>2</td>\n",
       "      <td>0</td>\n",
       "    </tr>\n",
       "    <tr>\n",
       "      <th>3</th>\n",
       "      <td>000001BC</td>\n",
       "      <td>1</td>\n",
       "      <td>1</td>\n",
       "      <td>66</td>\n",
       "      <td>2</td>\n",
       "      <td>0</td>\n",
       "    </tr>\n",
       "    <tr>\n",
       "      <th>4</th>\n",
       "      <td>000001BQ</td>\n",
       "      <td>0</td>\n",
       "      <td>0</td>\n",
       "      <td>396</td>\n",
       "      <td>6</td>\n",
       "      <td>0</td>\n",
       "    </tr>\n",
       "    <tr>\n",
       "      <th>...</th>\n",
       "      <td>...</td>\n",
       "      <td>...</td>\n",
       "      <td>...</td>\n",
       "      <td>...</td>\n",
       "      <td>...</td>\n",
       "      <td>...</td>\n",
       "    </tr>\n",
       "    <tr>\n",
       "      <th>3806670</th>\n",
       "      <td>9999YCUE</td>\n",
       "      <td>0</td>\n",
       "      <td>1</td>\n",
       "      <td>0</td>\n",
       "      <td>0</td>\n",
       "      <td>0</td>\n",
       "    </tr>\n",
       "    <tr>\n",
       "      <th>3806671</th>\n",
       "      <td>9999YHV</td>\n",
       "      <td>0</td>\n",
       "      <td>0</td>\n",
       "      <td>8</td>\n",
       "      <td>0</td>\n",
       "      <td>0</td>\n",
       "    </tr>\n",
       "    <tr>\n",
       "      <th>3806672</th>\n",
       "      <td>9999YHV</td>\n",
       "      <td>0</td>\n",
       "      <td>1</td>\n",
       "      <td>15</td>\n",
       "      <td>2</td>\n",
       "      <td>2</td>\n",
       "    </tr>\n",
       "    <tr>\n",
       "      <th>3806673</th>\n",
       "      <td>9999ZHAD</td>\n",
       "      <td>0</td>\n",
       "      <td>0</td>\n",
       "      <td>0</td>\n",
       "      <td>0</td>\n",
       "      <td>0</td>\n",
       "    </tr>\n",
       "    <tr>\n",
       "      <th>3806674</th>\n",
       "      <td>9999ZHAD</td>\n",
       "      <td>0</td>\n",
       "      <td>1</td>\n",
       "      <td>0</td>\n",
       "      <td>0</td>\n",
       "      <td>0</td>\n",
       "    </tr>\n",
       "  </tbody>\n",
       "</table>\n",
       "<p>3806675 rows × 6 columns</p>\n",
       "</div>"
      ],
      "text/plain": [
       "              sku  treated  after  trafficcount  addedtocart  placedorder\n",
       "0        000001AP        0      0            67            3            0\n",
       "1        000001AP        0      1            43            2            0\n",
       "2        000001BC        1      0            57            2            0\n",
       "3        000001BC        1      1            66            2            0\n",
       "4        000001BQ        0      0           396            6            0\n",
       "...           ...      ...    ...           ...          ...          ...\n",
       "3806670  9999YCUE        0      1             0            0            0\n",
       "3806671   9999YHV        0      0             8            0            0\n",
       "3806672   9999YHV        0      1            15            2            2\n",
       "3806673  9999ZHAD        0      0             0            0            0\n",
       "3806674  9999ZHAD        0      1             0            0            0\n",
       "\n",
       "[3806675 rows x 6 columns]"
      ]
     },
     "execution_count": 19,
     "metadata": {},
     "output_type": "execute_result"
    }
   ],
   "source": [
    "aggr = data.groupby(['sku','treated','after']).agg({'trafficcount':'sum', 'addedtocart':'sum', 'placedorder':'sum'}).reset_index()\n",
    "aggr"
   ]
  },
  {
   "cell_type": "code",
   "execution_count": 21,
   "id": "f8ebbb16",
   "metadata": {},
   "outputs": [],
   "source": [
    "aggr.to_csv('aggregated_ab_testing_data.csv', index = False)"
   ]
  },
  {
   "cell_type": "markdown",
   "id": "7debd434",
   "metadata": {},
   "source": [
    "## Differencing between before and after"
   ]
  },
  {
   "cell_type": "code",
   "execution_count": 36,
   "id": "8d95d778",
   "metadata": {},
   "outputs": [
    {
     "name": "stdout",
     "output_type": "stream",
     "text": [
      "-----Pivot Table-----\n",
      "         treated      trafficcount        addedtocart      placedorder     \n",
      "after          0    1            0      1           0    1           0    1\n",
      "sku                                                                        \n",
      "000001AP     0.0  0.0         67.0   43.0         3.0  2.0         0.0  0.0\n",
      "000001BC     1.0  1.0         57.0   66.0         2.0  2.0         0.0  0.0\n",
      "000001BQ     0.0  0.0        396.0  317.0         6.0  2.0         0.0  0.0\n",
      "000001CO     0.0  0.0         92.0   14.0         3.0  0.0         0.0  0.0\n",
      "000001DG     0.0  0.0          3.0    3.0         0.0  0.0         0.0  0.0\n",
      "...          ...  ...          ...    ...         ...  ...         ...  ...\n",
      "9999XSGB     0.0  0.0          0.0    3.0         0.0  0.0         0.0  0.0\n",
      "9999XWCN     0.0  0.0          9.0    7.0         1.0  1.0         0.0  0.0\n",
      "9999YADV     0.0  0.0         14.0   41.0         0.0  0.0         0.0  0.0\n",
      "9999YHV      0.0  0.0          8.0   15.0         0.0  2.0         0.0  2.0\n",
      "9999ZHAD     0.0  0.0          0.0    0.0         0.0  0.0         0.0  0.0\n",
      "\n",
      "[1864157 rows x 8 columns]\n",
      "\n",
      "-----Difference Table-----\n"
     ]
    },
    {
     "data": {
      "text/html": [
       "<div>\n",
       "<style scoped>\n",
       "    .dataframe tbody tr th:only-of-type {\n",
       "        vertical-align: middle;\n",
       "    }\n",
       "\n",
       "    .dataframe tbody tr th {\n",
       "        vertical-align: top;\n",
       "    }\n",
       "\n",
       "    .dataframe thead th {\n",
       "        text-align: right;\n",
       "    }\n",
       "</style>\n",
       "<table border=\"1\" class=\"dataframe\">\n",
       "  <thead>\n",
       "    <tr style=\"text-align: right;\">\n",
       "      <th></th>\n",
       "      <th>sku</th>\n",
       "      <th>treated</th>\n",
       "      <th>difTraffic</th>\n",
       "      <th>difCart</th>\n",
       "      <th>difBuy</th>\n",
       "    </tr>\n",
       "  </thead>\n",
       "  <tbody>\n",
       "    <tr>\n",
       "      <th>0</th>\n",
       "      <td>000001AP</td>\n",
       "      <td>0.0</td>\n",
       "      <td>-24.0</td>\n",
       "      <td>-1.0</td>\n",
       "      <td>0.0</td>\n",
       "    </tr>\n",
       "    <tr>\n",
       "      <th>1</th>\n",
       "      <td>000001BC</td>\n",
       "      <td>1.0</td>\n",
       "      <td>9.0</td>\n",
       "      <td>0.0</td>\n",
       "      <td>0.0</td>\n",
       "    </tr>\n",
       "    <tr>\n",
       "      <th>2</th>\n",
       "      <td>000001BQ</td>\n",
       "      <td>0.0</td>\n",
       "      <td>-79.0</td>\n",
       "      <td>-4.0</td>\n",
       "      <td>0.0</td>\n",
       "    </tr>\n",
       "    <tr>\n",
       "      <th>3</th>\n",
       "      <td>000001CO</td>\n",
       "      <td>0.0</td>\n",
       "      <td>-78.0</td>\n",
       "      <td>-3.0</td>\n",
       "      <td>0.0</td>\n",
       "    </tr>\n",
       "    <tr>\n",
       "      <th>4</th>\n",
       "      <td>000001DG</td>\n",
       "      <td>0.0</td>\n",
       "      <td>0.0</td>\n",
       "      <td>0.0</td>\n",
       "      <td>0.0</td>\n",
       "    </tr>\n",
       "    <tr>\n",
       "      <th>...</th>\n",
       "      <td>...</td>\n",
       "      <td>...</td>\n",
       "      <td>...</td>\n",
       "      <td>...</td>\n",
       "      <td>...</td>\n",
       "    </tr>\n",
       "    <tr>\n",
       "      <th>1864152</th>\n",
       "      <td>9999XSGB</td>\n",
       "      <td>0.0</td>\n",
       "      <td>3.0</td>\n",
       "      <td>0.0</td>\n",
       "      <td>0.0</td>\n",
       "    </tr>\n",
       "    <tr>\n",
       "      <th>1864153</th>\n",
       "      <td>9999XWCN</td>\n",
       "      <td>0.0</td>\n",
       "      <td>-2.0</td>\n",
       "      <td>0.0</td>\n",
       "      <td>0.0</td>\n",
       "    </tr>\n",
       "    <tr>\n",
       "      <th>1864154</th>\n",
       "      <td>9999YADV</td>\n",
       "      <td>0.0</td>\n",
       "      <td>27.0</td>\n",
       "      <td>0.0</td>\n",
       "      <td>0.0</td>\n",
       "    </tr>\n",
       "    <tr>\n",
       "      <th>1864155</th>\n",
       "      <td>9999YHV</td>\n",
       "      <td>0.0</td>\n",
       "      <td>7.0</td>\n",
       "      <td>2.0</td>\n",
       "      <td>2.0</td>\n",
       "    </tr>\n",
       "    <tr>\n",
       "      <th>1864156</th>\n",
       "      <td>9999ZHAD</td>\n",
       "      <td>0.0</td>\n",
       "      <td>0.0</td>\n",
       "      <td>0.0</td>\n",
       "      <td>0.0</td>\n",
       "    </tr>\n",
       "  </tbody>\n",
       "</table>\n",
       "<p>1864157 rows × 5 columns</p>\n",
       "</div>"
      ],
      "text/plain": [
       "              sku  treated  difTraffic  difCart  difBuy\n",
       "0        000001AP      0.0       -24.0     -1.0     0.0\n",
       "1        000001BC      1.0         9.0      0.0     0.0\n",
       "2        000001BQ      0.0       -79.0     -4.0     0.0\n",
       "3        000001CO      0.0       -78.0     -3.0     0.0\n",
       "4        000001DG      0.0         0.0      0.0     0.0\n",
       "...           ...      ...         ...      ...     ...\n",
       "1864152  9999XSGB      0.0         3.0      0.0     0.0\n",
       "1864153  9999XWCN      0.0        -2.0      0.0     0.0\n",
       "1864154  9999YADV      0.0        27.0      0.0     0.0\n",
       "1864155   9999YHV      0.0         7.0      2.0     2.0\n",
       "1864156  9999ZHAD      0.0         0.0      0.0     0.0\n",
       "\n",
       "[1864157 rows x 5 columns]"
      ]
     },
     "execution_count": 36,
     "metadata": {},
     "output_type": "execute_result"
    }
   ],
   "source": [
    "## Pivot the table so that we have a before and an after column for each metric\n",
    "pv = aggr.pivot('sku','after').dropna() \n",
    "# also drops NaN to eliminate SKUs that did not have full before-after conditions\n",
    "print('-----Pivot Table-----')\n",
    "print(pv)\n",
    "\n",
    "## Subtract before from after for each metric\n",
    "difTraffic = pv['trafficcount',1] - pv['trafficcount',0]\n",
    "difCart = pv['addedtocart',1] - pv['addedtocart',0]\n",
    "difBuy = pv['placedorder',1] - pv['placedorder',0]\n",
    "\n",
    "## Make dataframe from the differences \n",
    "df = pd.DataFrame({'treated':pv['treated',0], 'difTraffic':difTraffic, 'difCart':difCart, 'difBuy': difBuy}).reset_index()\n",
    "    ### reset_index() passes the current index, which is sku, as a column.\n",
    "    ### reset_index() is optional, but I prefer a manipulable column and an iterable index in most cases\n",
    "print('')\n",
    "print('-----Difference Table-----')\n",
    "df"
   ]
  },
  {
   "cell_type": "code",
   "execution_count": 44,
   "id": "2a6d4a34",
   "metadata": {},
   "outputs": [],
   "source": [
    "## Save works to csv\n",
    "df.to_csv('differenced_data.csv', index = False)"
   ]
  },
  {
   "cell_type": "code",
   "execution_count": 2,
   "id": "a825b845",
   "metadata": {},
   "outputs": [],
   "source": [
    "df = pd.read_csv('differenced_data.csv')"
   ]
  },
  {
   "cell_type": "markdown",
   "id": "4f6ee6f4",
   "metadata": {},
   "source": [
    "# Statistical Analyses - Mean Comparison"
   ]
  },
  {
   "cell_type": "markdown",
   "id": "57c9d694",
   "metadata": {},
   "source": [
    "## Levene's Test for Equal Variance"
   ]
  },
  {
   "cell_type": "markdown",
   "id": "821de6f9",
   "metadata": {},
   "source": [
    "First, we must test whether the variance in differenced values are \"equal\" between two groups, because the result would then decide which mean comparison test to use: ANOVA or Welch's test. We can use Levene's Test for Variance Equality.\n",
    "\n",
    "pingouin allows passing a value column and a group (categorical) column straight from the dataframe. Other packages might require passing multiple series, one series for each group."
   ]
  },
  {
   "cell_type": "code",
   "execution_count": 3,
   "id": "3d6b339e",
   "metadata": {},
   "outputs": [],
   "source": [
    "import pingouin as pg\n",
    "def levene_test(data, value_field, category_field):\n",
    "    return pg.homoscedasticity(data, dv=value_field, group=category_field, method='levene', alpha=0.05)"
   ]
  },
  {
   "cell_type": "code",
   "execution_count": 4,
   "id": "67dd4283",
   "metadata": {},
   "outputs": [
    {
     "name": "stdout",
     "output_type": "stream",
     "text": [
      "Variance Equality between control and treatment in Traffic difference\n",
      "                  W  pval  equal_var\n",
      "levene  1819.622559   0.0      False\n",
      "----------\n",
      "Variance Equality in Added-to-Cart Clicks difference\n",
      "                  W  pval  equal_var\n",
      "levene  1929.142058   0.0      False\n",
      "----------\n",
      "Variance Equality in Purchases difference\n",
      "                  W  pval  equal_var\n",
      "levene  1530.320935   0.0      False\n"
     ]
    }
   ],
   "source": [
    "print('Variance Equality between control and treatment in Traffic difference')\n",
    "print(levene_test(df, 'difTraffic', 'treated'))\n",
    "\n",
    "print('----------')\n",
    "print('Variance Equality in Added-to-Cart Clicks difference')\n",
    "print(levene_test(df, 'difCart', 'treated'))\n",
    "\n",
    "print('----------')\n",
    "print('Variance Equality in Purchases difference')\n",
    "print(levene_test(df, 'difBuy', 'treated'))"
   ]
  },
  {
   "cell_type": "markdown",
   "id": "ff96d821",
   "metadata": {},
   "source": [
    "The control and treatment groups differ in variances of all metrics' differences. We shall use:\n",
    "- Welch's test instead of ANOVA for mean differences \n",
    "- Games-Howell test for post-hoc pairwise comparison instead of Tukey's test."
   ]
  },
  {
   "cell_type": "markdown",
   "id": "d9878edd",
   "metadata": {},
   "source": [
    "## Test of Difference in Means: ANOVA vs. Welch's Test"
   ]
  },
  {
   "cell_type": "markdown",
   "id": "c71f809e",
   "metadata": {},
   "source": [
    "Both ANOVA and Welch's Test are used to compare the difference in means across multiple groups."
   ]
  },
  {
   "cell_type": "markdown",
   "id": "045fa480",
   "metadata": {},
   "source": [
    "### ANOVA"
   ]
  },
  {
   "cell_type": "markdown",
   "id": "2e71f64e",
   "metadata": {},
   "source": [
    "When the variances are equal between groups, we can use ANOVA."
   ]
  },
  {
   "cell_type": "code",
   "execution_count": 8,
   "id": "7c5e1fc4",
   "metadata": {},
   "outputs": [
    {
     "name": "stdout",
     "output_type": "stream",
     "text": [
      "ANOVA on Traffic Difference\n",
      "    Source  ddof1    ddof2         F     p-unc       np2\n",
      "0  treated      1  1864155  1.874216  0.170993  0.000001\n",
      "----------\n",
      "ANOVA on Added-to-Cart Difference\n",
      "    Source  ddof1    ddof2           F         p-unc     np2\n",
      "0  treated      1  1864155  186.352751  1.997701e-42  0.0001\n",
      "----------\n",
      "ANOVA on Purchase Difference\n",
      "    Source  ddof1    ddof2           F          p-unc       np2\n",
      "0  treated      1  1864155  722.199889  4.772576e-159  0.000387\n"
     ]
    }
   ],
   "source": [
    "print('ANOVA on Traffic Difference')\n",
    "print(pg.anova(dv='difTraffic', between='treated', data=df))\n",
    "\n",
    "print('----------')\n",
    "print('ANOVA on Added-to-Cart Difference')\n",
    "print(pg.anova(dv='difCart', between='treated', data=df))\n",
    "\n",
    "print('----------')\n",
    "print('ANOVA on Purchase Difference')\n",
    "print(pg.anova(dv='difBuy', between='treated', data=df))"
   ]
  },
  {
   "cell_type": "markdown",
   "id": "35418dfb",
   "metadata": {},
   "source": [
    "### Welch's Test"
   ]
  },
  {
   "cell_type": "markdown",
   "id": "f89719a5",
   "metadata": {},
   "source": [
    "When the variances are unequal between groups, we use Welch's Test. This is the appropriate test for our case."
   ]
  },
  {
   "cell_type": "code",
   "execution_count": 7,
   "id": "779f2a0a",
   "metadata": {},
   "outputs": [
    {
     "name": "stdout",
     "output_type": "stream",
     "text": [
      "Welch's test on Traffic Difference\n",
      "    Source  ddof1          ddof2         F     p-unc       np2\n",
      "0  treated      1  199886.508265  0.564182  0.452581  0.000001\n",
      "----------\n",
      "Welch's test on Added-to-Cart Difference\n",
      "    Source  ddof1          ddof2          F         p-unc     np2\n",
      "0  treated      1  196227.780707  41.469138  1.200217e-10  0.0001\n",
      "----------\n",
      "Welch's test on Purchase Difference\n",
      "    Source  ddof1         ddof2           F         p-unc       np2\n",
      "0  treated      1  194135.64732  127.607125  1.397569e-29  0.000387\n"
     ]
    }
   ],
   "source": [
    "from pingouin import welch_anova\n",
    "\n",
    "print(\"Welch's test on Traffic Difference\")\n",
    "print(welch_anova(dv='difTraffic', between='treated', data=df))\n",
    "\n",
    "print('----------')\n",
    "print(\"Welch's test on Added-to-Cart Difference\")\n",
    "print(welch_anova(dv='difCart', between='treated', data=df))\n",
    "\n",
    "print('----------')\n",
    "print(\"Welch's test on Purchase Difference\")\n",
    "print(welch_anova(dv='difBuy', between='treated', data=df))"
   ]
  },
  {
   "cell_type": "markdown",
   "id": "55fbce07",
   "metadata": {},
   "source": [
    "## Post-hoc Pairwise Comparison: Tukey's vs Games-Howell"
   ]
  },
  {
   "cell_type": "markdown",
   "id": "c5a1733d",
   "metadata": {},
   "source": [
    "After ANOVA or Welch's test, we should compare the means between the groups. This step is not necessary when comparing between just two groups, because we already know their means, variances, and whether the difference between them is significant. However, when we have more than two groups to compare, doing a t-test, ANOVA, or Welch' test for each pair in a large collection of groups would accumulate the errors of these tests. It is thus important to use pairwise comparison to examine the differences between each pair without widening error. Which pairwise test to use also depends on equal or unequal variances."
   ]
  },
  {
   "cell_type": "markdown",
   "id": "e14e954f",
   "metadata": {},
   "source": [
    "### Tukey's Test"
   ]
  },
  {
   "cell_type": "markdown",
   "id": "2235bf2c",
   "metadata": {},
   "source": [
    "For equal variances among groups, we can use Tukey's test. "
   ]
  },
  {
   "cell_type": "code",
   "execution_count": 9,
   "id": "19e8a7ea",
   "metadata": {},
   "outputs": [],
   "source": [
    "def tukey(data, value_field, category_field, n_round):\n",
    "    return pg.pairwise_tukey(data=data, dv=value_field,\n",
    "                        between=category_field).round(n_round)"
   ]
  },
  {
   "cell_type": "code",
   "execution_count": 16,
   "id": "96c0c6cf",
   "metadata": {
    "scrolled": false
   },
   "outputs": [
    {
     "name": "stdout",
     "output_type": "stream",
     "text": [
      "Tukey's Pairwise Comparison on Traffic Difference\n",
      "     A    B  mean(A)  mean(B)  diff   se    T  p-tukey  hedges\n",
      "0  0.0  1.0     21.7     18.1   3.6  2.6  1.4      0.2     0.0\n",
      "----------\n",
      "Tukey's on Added-to-Cart Difference\n",
      "     A    B  mean(A)  mean(B)  diff   se     T  p-tukey  hedges\n",
      "0  0.0  1.0      0.2     -2.8   3.0  0.2  13.7      0.0     0.0\n",
      "----------\n",
      "Tukey's on Purchase Difference\n",
      "     A    B  mean(A)  mean(B)  diff   se     T  p-tukey  hedges\n",
      "0  0.0  1.0     -0.3     -1.9   1.6  0.1  26.9      0.0     0.1\n"
     ]
    }
   ],
   "source": [
    "print(\"Tukey's Pairwise Comparison on Traffic Difference\")\n",
    "print(tukey(df, 'difTraffic', 'treated', 1))\n",
    "\n",
    "print('----------')\n",
    "print(\"Tukey's on Added-to-Cart Difference\")\n",
    "print(tukey(df, 'difCart', 'treated', 1))\n",
    "\n",
    "print('----------')\n",
    "print(\"Tukey's on Purchase Difference\")\n",
    "print(tukey(df, 'difBuy', 'treated', 1))"
   ]
  },
  {
   "cell_type": "markdown",
   "id": "7d71dbbb",
   "metadata": {},
   "source": [
    "### Games-Howell Test"
   ]
  },
  {
   "cell_type": "markdown",
   "id": "45ad202e",
   "metadata": {},
   "source": [
    "For unequal variances among groups, we can use Games-Howell post-hoc pairwise comparison. This is the appropriate test for our case. "
   ]
  },
  {
   "cell_type": "code",
   "execution_count": 14,
   "id": "68381490",
   "metadata": {},
   "outputs": [],
   "source": [
    "def games_howell(data, value_field, category_field, n_round):\n",
    "    return pg.pairwise_gameshowell(data=data, dv=value_field,\n",
    "                        between=category_field).round(n_round)"
   ]
  },
  {
   "cell_type": "code",
   "execution_count": 17,
   "id": "12a5e2be",
   "metadata": {
    "scrolled": true
   },
   "outputs": [
    {
     "name": "stdout",
     "output_type": "stream",
     "text": [
      "Games-Howell Pairwise Comparison on Traffic Difference\n",
      "     A    B  mean(A)  mean(B)  diff   se    T        df  pval  hedges\n",
      "0  0.0  1.0     21.7     18.1   3.6  4.8  0.8  199886.5   0.5     0.0\n",
      "----------\n",
      "Games-Howell on Added-to-Cart Difference\n",
      "     A    B  mean(A)  mean(B)  diff   se    T        df  pval  hedges\n",
      "0  0.0  1.0      0.2     -2.8   3.0  0.5  6.4  196227.8   0.0     0.0\n",
      "----------\n",
      "Games-Howell on Purchase Difference\n",
      "     A    B  mean(A)  mean(B)  diff   se     T        df  pval  hedges\n",
      "0  0.0  1.0     -0.3     -1.9   1.6  0.1  11.3  194135.6   0.0     0.0\n"
     ]
    }
   ],
   "source": [
    "print(\"Games-Howell Pairwise Comparison on Traffic Difference\")\n",
    "print(games_howell(df, 'difTraffic', 'treated', 1))\n",
    "\n",
    "print('----------')\n",
    "print(\"Games-Howell on Added-to-Cart Difference\")\n",
    "print(games_howell(df, 'difCart', 'treated', 1))\n",
    "\n",
    "print('----------')\n",
    "print(\"Games-Howell on Purchase Difference\")\n",
    "print(games_howell(df, 'difBuy', 'treated', 1))"
   ]
  }
 ],
 "metadata": {
  "kernelspec": {
   "display_name": "Python 3 (ipykernel)",
   "language": "python",
   "name": "python3"
  },
  "language_info": {
   "codemirror_mode": {
    "name": "ipython",
    "version": 3
   },
   "file_extension": ".py",
   "mimetype": "text/x-python",
   "name": "python",
   "nbconvert_exporter": "python",
   "pygments_lexer": "ipython3",
   "version": "3.9.13"
  }
 },
 "nbformat": 4,
 "nbformat_minor": 5
}
